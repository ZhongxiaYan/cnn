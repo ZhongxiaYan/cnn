{
 "cells": [
  {
   "cell_type": "code",
   "execution_count": 3,
   "metadata": {
    "collapsed": true
   },
   "outputs": [],
   "source": [
    "import convolve\n",
    "import numpy as np\n",
    "import time"
   ]
  },
  {
   "cell_type": "code",
   "execution_count": 4,
   "metadata": {
    "collapsed": false
   },
   "outputs": [
    {
     "name": "stdout",
     "output_type": "stream",
     "text": [
      "[[  0.00000000e+00   1.00000000e+00   2.00000000e+00 ...,   9.97000000e+02\n",
      "    9.98000000e+02   9.99000000e+02]\n",
      " [  1.00000000e+03   1.00100000e+03   1.00200000e+03 ...,   1.99700000e+03\n",
      "    1.99800000e+03   1.99900000e+03]\n",
      " [  2.00000000e+03   2.00100000e+03   2.00200000e+03 ...,   2.99700000e+03\n",
      "    2.99800000e+03   2.99900000e+03]\n",
      " ..., \n",
      " [  9.97000000e+05   9.97001000e+05   9.97002000e+05 ...,   9.97997000e+05\n",
      "    9.97998000e+05   9.97999000e+05]\n",
      " [  9.98000000e+05   9.98001000e+05   9.98002000e+05 ...,   9.98997000e+05\n",
      "    9.98998000e+05   9.98999000e+05]\n",
      " [  9.99000000e+05   9.99001000e+05   9.99002000e+05 ...,   9.99997000e+05\n",
      "    9.99998000e+05   9.99999000e+05]]\n",
      "[[  0.   1.   2.   3.   4.   5.   6.   7.   8.]\n",
      " [  9.  10.  11.  12.  13.  14.  15.  16.  17.]\n",
      " [ 18.  19.  20.  21.  22.  23.  24.  25.  26.]\n",
      " [ 27.  28.  29.  30.  31.  32.  33.  34.  35.]\n",
      " [ 36.  37.  38.  39.  40.  41.  42.  43.  44.]\n",
      " [ 45.  46.  47.  48.  49.  50.  51.  52.  53.]\n",
      " [ 54.  55.  56.  57.  58.  59.  60.  61.  62.]\n",
      " [ 63.  64.  65.  66.  67.  68.  69.  70.  71.]\n",
      " [ 72.  73.  74.  75.  76.  77.  78.  79.  80.]]\n",
      "0.19313000000000002\n",
      "[[  1.31144160e+07   1.46292960e+07   1.46325000e+07 ...,   1.78012560e+07\n",
      "    1.78044600e+07   1.56836640e+07]\n",
      " [  1.59945840e+07   1.78335000e+07   1.78367400e+07 ...,   2.10411000e+07\n",
      "    2.10443400e+07   1.85275800e+07]\n",
      " [  1.89105840e+07   2.10735000e+07   2.10767400e+07 ...,   2.42811000e+07\n",
      "    2.42843400e+07   2.13715800e+07]\n",
      " ..., \n",
      " [  2.90283458e+09   3.22543350e+09   3.22543674e+09 ...,   3.22864110e+09\n",
      "    3.22864434e+09   2.83408758e+09]\n",
      " [  2.90575058e+09   3.22867350e+09   3.22867674e+09 ...,   3.23188110e+09\n",
      "    3.23188434e+09   2.83693158e+09]\n",
      " [  2.29666440e+09   2.54791070e+09   2.54791326e+09 ...,   2.55044114e+09\n",
      "    2.55044370e+09   2.23517426e+09]]\n"
     ]
    }
   ],
   "source": [
    "dim_a_1 = 1000\n",
    "dim_a_2 = 9\n",
    "a_1 = np.arange(dim_a_1 ** 2, dtype=float).reshape((dim_a_1, dim_a_1))\n",
    "a_2 = np.arange(dim_a_2 ** 2, dtype=float).reshape((dim_a_2, dim_a_2))\n",
    "\n",
    "# a_1 = np.array([[1, 2, 3], [4, 5, 6], [7, 8, 9]], dtype=float)\n",
    "# a_2 = np.array([[1, 2], [3, 4]], dtype=float)\n",
    "print(a_1)\n",
    "print(a_2)\n",
    "padding = 1\n",
    "stride = 1\n",
    "dim_out = (a_1.shape[0] - a_2.shape[0] + 2 * padding) // stride + 1\n",
    "a_out = np.zeros((dim_out, dim_out), dtype=float)\n",
    "a_1 = a_1.reshape((a_1.shape[0] * a_1.shape[1],))\n",
    "a_2 = a_2.reshape((a_2.shape[0] * a_2.shape[1],))\n",
    "a_out = a_out.reshape((dim_out ** 2,))\n",
    "start = time.clock()\n",
    "convolve.convolve2D(a_1, a_2, dim_a_1, dim_a_2, padding, stride, a_out)\n",
    "print(time.clock() - start)\n",
    "print(a_out.reshape((dim_out, dim_out)))"
   ]
  }
 ],
 "metadata": {
  "anaconda-cloud": {},
  "kernelspec": {
   "display_name": "Python 3",
   "language": "python",
   "name": "python3"
  },
  "language_info": {
   "codemirror_mode": {
    "name": "ipython",
    "version": 3
   },
   "file_extension": ".py",
   "mimetype": "text/x-python",
   "name": "python",
   "nbconvert_exporter": "python",
   "pygments_lexer": "ipython3",
   "version": "3.5.2"
  }
 },
 "nbformat": 4,
 "nbformat_minor": 0
}
