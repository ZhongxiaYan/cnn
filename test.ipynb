{
 "cells": [
  {
   "cell_type": "code",
   "execution_count": 1,
   "metadata": {
    "collapsed": false
   },
   "outputs": [],
   "source": [
    "import numpy as np\n",
    "import time\n",
    "\n",
    "%load_ext autoreload\n",
    "%aimport convolve\n",
    "%autoreload 1"
   ]
  },
  {
   "cell_type": "code",
   "execution_count": 3,
   "metadata": {
    "collapsed": false
   },
   "outputs": [
    {
     "name": "stdout",
     "output_type": "stream",
     "text": [
      "0.0011810000000000986\n",
      "input\n",
      " [[ 1.  2.  3.]\n",
      " [ 4.  5.  6.]\n",
      " [ 7.  8.  9.]]\n",
      "W\n",
      " [[ 1.  2.]\n",
      " [ 3.  4.]]\n",
      "output\n",
      " [[  4.  11.  18.   9.]\n",
      " [ 18.  37.  47.  21.]\n",
      " [ 36.  67.  77.  33.]\n",
      " [ 14.  23.  26.   9.]]\n",
      "dJ_dout\n",
      " [[ 1.  3.  2.  4.]\n",
      " [ 0.  5.  1.  6.]\n",
      " [ 2.  7.  9.  8.]\n",
      " [ 0.  3.  1.  5.]]\n",
      "dJ_din\n",
      " [[ 18.  29.  28.]\n",
      " [ 26.  46.  48.]\n",
      " [ 32.  62.  67.]]\n"
     ]
    }
   ],
   "source": [
    "dim_input = 1000\n",
    "dim_W = 9\n",
    "# input = np.arange(dim_input ** 2, dtype=float).reshape((dim_input, dim_input))\n",
    "# W = np.arange(dim_W ** 2, dtype=float).reshape((dim_W, dim_W))\n",
    "\n",
    "dim_input = 3\n",
    "dim_W = 2\n",
    "input = np.array([[1, 2, 3], [4, 5, 6], [7, 8, 9]], dtype=float)\n",
    "W = np.array([[1, 2], [3, 4]], dtype=float)\n",
    "padding = 1\n",
    "stride = 1\n",
    "dim_out = (dim_input - W.shape[0] + 2 * padding) // stride + 1\n",
    "output = np.zeros((dim_out, dim_out), dtype=float)\n",
    "input = input.reshape((dim_input * dim_input,))\n",
    "W = W.reshape((W.shape[0] * W.shape[1],))\n",
    "output = output.reshape((dim_out ** 2,))\n",
    "start = time.clock()\n",
    "convolve.conv_forward(input, W, dim_input, dim_W, padding, stride, output)\n",
    "dJ_dout = np.array([[1, 3, 2, 4], [0, 5, 1, 6], [2, 7, 9, 8], [0, 3, 1, 5]], dtype=float)\n",
    "# dJ_dout = np.array([[1, 3], [0, 5]], dtype=float)\n",
    "dJ_dout = dJ_dout.reshape((dim_out * dim_out,))\n",
    "dJ_dW = np.zeros((dim_W * dim_W,), dtype=float)\n",
    "dJ_din = np.zeros((dim_input * dim_input,), dtype=float)\n",
    "convolve.conv_backward_W(dJ_dout, input, dim_input, dim_W, padding, stride, dJ_dW)\n",
    "convolve.conv_backward_input(dJ_dout, W, dim_input, dim_W, padding, stride, dJ_din)\n",
    "print(time.clock() - start)\n",
    "print('input\\n', input.reshape((dim_input, dim_input)))\n",
    "print('W\\n', W.reshape((dim_W, dim_W)))\n",
    "print('output\\n', output.reshape((dim_out, dim_out)))\n",
    "print('dJ_dout\\n', dJ_dout.reshape((dim_out, dim_out)))\n",
    "# print('dJ_dW\\n', dJ_dW.reshape((dim_W, dim_W)))\n",
    "print('dJ_din\\n', dJ_din.reshape((dim_input, dim_input)))"
   ]
  }
 ],
 "metadata": {
  "anaconda-cloud": {},
  "kernelspec": {
   "display_name": "Python 3",
   "language": "python",
   "name": "python3"
  },
  "language_info": {
   "codemirror_mode": {
    "name": "ipython",
    "version": 3
   },
   "file_extension": ".py",
   "mimetype": "text/x-python",
   "name": "python",
   "nbconvert_exporter": "python",
   "pygments_lexer": "ipython3",
   "version": "3.5.2"
  }
 },
 "nbformat": 4,
 "nbformat_minor": 0
}
