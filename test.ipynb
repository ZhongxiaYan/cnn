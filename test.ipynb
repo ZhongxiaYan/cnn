{
 "cells": [
  {
   "cell_type": "code",
   "execution_count": 1,
   "metadata": {
    "collapsed": false
   },
   "outputs": [],
   "source": [
    "import numpy as np\n",
    "import itertools\n",
    "import time\n",
    "\n",
    "%load_ext autoreload\n",
    "%aimport convolve\n",
    "%autoreload 1"
   ]
  },
  {
   "cell_type": "markdown",
   "metadata": {},
   "source": [
    "# Timing"
   ]
  },
  {
   "cell_type": "code",
   "execution_count": 5,
   "metadata": {
    "collapsed": false
   },
   "outputs": [
    {
     "name": "stdout",
     "output_type": "stream",
     "text": [
      "time elapsed: 4.146167755126953\n"
     ]
    }
   ],
   "source": [
    "dim_input = 50\n",
    "dim_W = 5\n",
    "padding = 1\n",
    "stride = 1\n",
    "dim_out = (dim_input - dim_W + 2 * padding) // stride + 1\n",
    "batch_size = 100\n",
    "input_depth = 6\n",
    "output_depth = 16\n",
    "\n",
    "input = np.random.random((batch_size, input_depth, dim_input, dim_input))\n",
    "W = np.random.random((output_depth, input_depth, dim_W, dim_W))\n",
    "output = np.zeros((batch_size,  output_depth, dim_out, dim_out), dtype=float)\n",
    "\n",
    "V = np.random.random(output.shape)\n",
    "# J = np.sum(output * V)\n",
    "dJ_dout = V\n",
    "\n",
    "dJ_dW = np.zeros(W.shape, dtype=float)\n",
    "dJ_din = np.zeros(input.shape, dtype=float)\n",
    "start = time.time()\n",
    "convolve.conv_forward(input, W, padding, stride, output)\n",
    "convolve.conv_backward_W(dJ_dout, input, padding, stride, dJ_dW)\n",
    "convolve.conv_backward_input(dJ_dout, W, padding, stride, dJ_din)\n",
    "\n",
    "print('time elapsed:', time.time() - start)\n",
    "# print(input.reshape((batch_size, input_depth, dim_input, dim_input)))\n",
    "# print(W.reshape((output_depth, input_depth, dim_W, dim_W)))\n",
    "# print(output.reshape((batch_size,  output_depth, dim_out, dim_out)))"
   ]
  },
  {
   "cell_type": "markdown",
   "metadata": {},
   "source": [
    "# Small delta derivative approximation"
   ]
  },
  {
   "cell_type": "code",
   "execution_count": 8,
   "metadata": {
    "collapsed": false
   },
   "outputs": [
    {
     "name": "stdout",
     "output_type": "stream",
     "text": [
      "J: 6367650.55263\n",
      "dJ_dW magnitude 25275780.3456\n",
      "total error from approximation 1.75870741299\n",
      "dJ_din magnitude 25248743.6647\n",
      "total error from approximation 175.357479516\n",
      "16.815437999999986\n"
     ]
    }
   ],
   "source": [
    "start = time.clock()\n",
    "dim_input = 30\n",
    "dim_W = 8\n",
    "padding = 1\n",
    "stride = 1\n",
    "dim_out = (dim_input - dim_W + 2 * padding) // stride + 1\n",
    "batch_size = 3\n",
    "input_depth = 3\n",
    "output_depth = 3\n",
    "\n",
    "input = np.random.random((batch_size, input_depth, dim_input, dim_input))\n",
    "W = np.random.random((output_depth, input_depth, dim_W, dim_W))\n",
    "output = np.zeros((batch_size,  output_depth, dim_out, dim_out), dtype=float)\n",
    "\n",
    "convolve.conv_forward(input, W, padding, stride, output)\n",
    "V = np.random.random(output.shape)\n",
    "J = np.sum(output * output * V)\n",
    "\n",
    "print('J:', J)\n",
    "\n",
    "dJ_dout = 2 * output * V\n",
    "\n",
    "dJ_dW = np.zeros(W.shape, dtype=float)\n",
    "dJ_din = np.zeros(input.shape, dtype=float)\n",
    "convolve.conv_backward_W(dJ_dout, input, padding, stride, dJ_dW)\n",
    "convolve.conv_backward_input(dJ_dout, W, padding, stride, dJ_din)\n",
    "\n",
    "out_changed = np.zeros(output.shape, dtype=float)\n",
    "dJ_dW_approx = np.zeros(dJ_dW.shape, dtype=float)\n",
    "delta = 1e-5\n",
    "for i, j, k, l in itertools.product(*(range(x) for x in W.shape)):\n",
    "    w_original = W[i, j, k, l]\n",
    "    W[i, j, k, l] = w_original + delta\n",
    "    convolve.conv_forward(input, W, padding, stride, out_changed)\n",
    "    J_changed = np.sum(out_changed * out_changed * V)\n",
    "    dJ_dW_approx[i, j, k, l] = (J_changed - J) / delta\n",
    "    W[i, j, k, l] = w_original\n",
    "\n",
    "print('dJ_dW magnitude', np.sum(np.abs(dJ_dW)))\n",
    "print('total error from approximation', np.sum(np.abs(dJ_dW - dJ_dW_approx)))\n",
    "\n",
    "delta = 1e-3\n",
    "\n",
    "dJ_din_approx = np.zeros(dJ_din.shape, dtype=float)\n",
    "for i, j, k, l in itertools.product(*(range(x) for x in input.shape)):\n",
    "    input_original = input[i, j, k, l]\n",
    "    input[i, j, k, l] = input_original + delta\n",
    "    convolve.conv_forward(input, W, padding, stride, out_changed)\n",
    "    J_changed = np.sum(out_changed * out_changed * V)\n",
    "    dJ_din_approx[i, j, k, l] = (J_changed - J) / delta\n",
    "    input[i, j, k, l] = input_original\n",
    "\n",
    "print('dJ_din magnitude', np.sum(np.abs(dJ_din)))\n",
    "print('total error from approximation', np.sum(np.abs(dJ_din - dJ_din_approx)))\n",
    "\n",
    "print(time.clock() - start)"
   ]
  }
 ],
 "metadata": {
  "anaconda-cloud": {},
  "kernelspec": {
   "display_name": "Python 3",
   "language": "python",
   "name": "python3"
  },
  "language_info": {
   "codemirror_mode": {
    "name": "ipython",
    "version": 3
   },
   "file_extension": ".py",
   "mimetype": "text/x-python",
   "name": "python",
   "nbconvert_exporter": "python",
   "pygments_lexer": "ipython3",
   "version": "3.5.2"
  }
 },
 "nbformat": 4,
 "nbformat_minor": 0
}
